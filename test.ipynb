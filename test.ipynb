{
 "cells": [
  {
   "cell_type": "code",
   "execution_count": 4,
   "metadata": {
    "ExecuteTime": {
     "end_time": "2021-10-05T19:54:30.576297Z",
     "start_time": "2021-10-05T19:54:28.839893Z"
    }
   },
   "outputs": [
    {
     "name": "stdout",
     "output_type": "stream",
     "text": [
      "The autoreload extension is already loaded. To reload it, use:\n",
      "  %reload_ext autoreload\n",
      "The nb_black extension is already loaded. To reload it, use:\n",
      "  %reload_ext nb_black\n"
     ]
    },
    {
     "data": {
      "text/plain": [
       "<module 'ndg_tools' from 'c:\\\\Users\\\\ndgig\\\\Documents\\\\Flatiron\\\\data-science-toolkit\\\\ndg_tools\\\\__init__.py'>"
      ]
     },
     "execution_count": 4,
     "metadata": {},
     "output_type": "execute_result"
    },
    {
     "data": {
      "application/javascript": "\n            setTimeout(function() {\n                var nbb_cell_id = 4;\n                var nbb_unformatted_code = \"import os\\nfrom pprint import pprint\\nimport pandas as pd\\nimport numpy as np\\nimport itertools\\nimport sklearn.datasets as datasets\\nimport ndg_tools\\nfrom ndg_tools.sklearn.vectorizers import FreqVectorizer, VaderVectorizer\\nfrom ndg_tools import language as lang, utils\\n\\nDATA_HOME = \\\"test_data\\\"\\nos.makedirs(DATA_HOME, exist_ok=True)\\n\\n%load_ext autoreload\\n%autoreload 2\\n\\n%load_ext nb_black\\n\\nndg_tools\";\n                var nbb_formatted_code = \"import os\\nfrom pprint import pprint\\nimport pandas as pd\\nimport numpy as np\\nimport itertools\\nimport sklearn.datasets as datasets\\nimport ndg_tools\\nfrom ndg_tools.sklearn.vectorizers import FreqVectorizer, VaderVectorizer\\nfrom ndg_tools import language as lang, utils\\n\\nDATA_HOME = \\\"test_data\\\"\\nos.makedirs(DATA_HOME, exist_ok=True)\\n\\n%load_ext autoreload\\n%autoreload 2\\n\\n%load_ext nb_black\\n\\nndg_tools\";\n                var nbb_cells = Jupyter.notebook.get_cells();\n                for (var i = 0; i < nbb_cells.length; ++i) {\n                    if (nbb_cells[i].input_prompt_number == nbb_cell_id) {\n                        if (nbb_cells[i].get_text() == nbb_unformatted_code) {\n                             nbb_cells[i].set_text(nbb_formatted_code);\n                        }\n                        break;\n                    }\n                }\n            }, 500);\n            ",
      "text/plain": [
       "<IPython.core.display.Javascript object>"
      ]
     },
     "metadata": {},
     "output_type": "display_data"
    }
   ],
   "source": [
    "import os\n",
    "from pprint import pprint\n",
    "import pandas as pd\n",
    "import numpy as np\n",
    "import itertools\n",
    "import sklearn.datasets as datasets\n",
    "import ndg_tools\n",
    "from ndg_tools.sklearn.vectorizers import FreqVectorizer, VaderVectorizer\n",
    "from ndg_tools import language as lang, utils\n",
    "\n",
    "DATA_HOME = \"test_data\"\n",
    "os.makedirs(DATA_HOME, exist_ok=True)\n",
    "\n",
    "%load_ext autoreload\n",
    "%autoreload 2\n",
    "\n",
    "%load_ext nb_black\n",
    "\n",
    "ndg_tools"
   ]
  },
  {
   "cell_type": "code",
   "execution_count": 2,
   "metadata": {
    "ExecuteTime": {
     "end_time": "2021-10-05T19:54:52.249099Z",
     "start_time": "2021-10-05T19:54:51.939097Z"
    },
    "run_control": {
     "marked": false
    }
   },
   "outputs": [
    {
     "data": {
      "text/html": [
       "<div>\n",
       "<style scoped>\n",
       "    .dataframe tbody tr th:only-of-type {\n",
       "        vertical-align: middle;\n",
       "    }\n",
       "\n",
       "    .dataframe tbody tr th {\n",
       "        vertical-align: top;\n",
       "    }\n",
       "\n",
       "    .dataframe thead th {\n",
       "        text-align: right;\n",
       "    }\n",
       "</style>\n",
       "<table border=\"1\" class=\"dataframe\">\n",
       "  <thead>\n",
       "    <tr style=\"text-align: right;\">\n",
       "      <th></th>\n",
       "      <th>text</th>\n",
       "      <th>filenames</th>\n",
       "    </tr>\n",
       "  </thead>\n",
       "  <tbody>\n",
       "    <tr>\n",
       "      <th>0</th>\n",
       "      <td>From: cubbie@garnet.berkeley.edu (            ...</td>\n",
       "      <td>test_data\\20news_home\\20news-bydate-train\\rec....</td>\n",
       "    </tr>\n",
       "    <tr>\n",
       "      <th>1</th>\n",
       "      <td>From: gnelson@pion.rutgers.edu (Gregory Nelson...</td>\n",
       "      <td>test_data\\20news_home\\20news-bydate-train\\comp...</td>\n",
       "    </tr>\n",
       "    <tr>\n",
       "      <th>2</th>\n",
       "      <td>From: crypt-comments@math.ncsu.edu\\nSubject: C...</td>\n",
       "      <td>test_data\\20news_home\\20news-bydate-train\\sci....</td>\n",
       "    </tr>\n",
       "    <tr>\n",
       "      <th>3</th>\n",
       "      <td>From:  ()\\nSubject: Re: Quadra SCSI Problems??...</td>\n",
       "      <td>test_data\\20news_home\\20news-bydate-train\\comp...</td>\n",
       "    </tr>\n",
       "    <tr>\n",
       "      <th>4</th>\n",
       "      <td>From: keith@cco.caltech.edu (Keith Allan Schne...</td>\n",
       "      <td>test_data\\20news_home\\20news-bydate-train\\alt....</td>\n",
       "    </tr>\n",
       "    <tr>\n",
       "      <th>...</th>\n",
       "      <td>...</td>\n",
       "      <td>...</td>\n",
       "    </tr>\n",
       "    <tr>\n",
       "      <th>18841</th>\n",
       "      <td>From: fennell@well.sf.ca.us (Michael Daniel Fe...</td>\n",
       "      <td>test_data\\20news_home\\20news-bydate-test\\sci.e...</td>\n",
       "    </tr>\n",
       "    <tr>\n",
       "      <th>18842</th>\n",
       "      <td>From: tony@morgan.demon.co.uk (Tony Kidson)\\nS...</td>\n",
       "      <td>test_data\\20news_home\\20news-bydate-test\\rec.m...</td>\n",
       "    </tr>\n",
       "    <tr>\n",
       "      <th>18843</th>\n",
       "      <td>From: sadams@eis.calstate.edu (Steven Adams)\\n...</td>\n",
       "      <td>test_data\\20news_home\\20news-bydate-test\\comp....</td>\n",
       "    </tr>\n",
       "    <tr>\n",
       "      <th>18844</th>\n",
       "      <td>From: jtobias@cs.tamu.edu (Jason T Tobias)\\nSu...</td>\n",
       "      <td>test_data\\20news_home\\20news-bydate-test\\misc....</td>\n",
       "    </tr>\n",
       "    <tr>\n",
       "      <th>18845</th>\n",
       "      <td>From: jgoss@gaia.torolab.ibm.com (Jeff Goss)\\n...</td>\n",
       "      <td>test_data\\20news_home\\20news-bydate-test\\rec.a...</td>\n",
       "    </tr>\n",
       "  </tbody>\n",
       "</table>\n",
       "<p>18846 rows × 2 columns</p>\n",
       "</div>"
      ],
      "text/plain": [
       "                                                    text  \\\n",
       "0      From: cubbie@garnet.berkeley.edu (            ...   \n",
       "1      From: gnelson@pion.rutgers.edu (Gregory Nelson...   \n",
       "2      From: crypt-comments@math.ncsu.edu\\nSubject: C...   \n",
       "3      From:  ()\\nSubject: Re: Quadra SCSI Problems??...   \n",
       "4      From: keith@cco.caltech.edu (Keith Allan Schne...   \n",
       "...                                                  ...   \n",
       "18841  From: fennell@well.sf.ca.us (Michael Daniel Fe...   \n",
       "18842  From: tony@morgan.demon.co.uk (Tony Kidson)\\nS...   \n",
       "18843  From: sadams@eis.calstate.edu (Steven Adams)\\n...   \n",
       "18844  From: jtobias@cs.tamu.edu (Jason T Tobias)\\nSu...   \n",
       "18845  From: jgoss@gaia.torolab.ibm.com (Jeff Goss)\\n...   \n",
       "\n",
       "                                               filenames  \n",
       "0      test_data\\20news_home\\20news-bydate-train\\rec....  \n",
       "1      test_data\\20news_home\\20news-bydate-train\\comp...  \n",
       "2      test_data\\20news_home\\20news-bydate-train\\sci....  \n",
       "3      test_data\\20news_home\\20news-bydate-train\\comp...  \n",
       "4      test_data\\20news_home\\20news-bydate-train\\alt....  \n",
       "...                                                  ...  \n",
       "18841  test_data\\20news_home\\20news-bydate-test\\sci.e...  \n",
       "18842  test_data\\20news_home\\20news-bydate-test\\rec.m...  \n",
       "18843  test_data\\20news_home\\20news-bydate-test\\comp....  \n",
       "18844  test_data\\20news_home\\20news-bydate-test\\misc....  \n",
       "18845  test_data\\20news_home\\20news-bydate-test\\rec.a...  \n",
       "\n",
       "[18846 rows x 2 columns]"
      ]
     },
     "execution_count": 2,
     "metadata": {},
     "output_type": "execute_result"
    },
    {
     "data": {
      "application/javascript": "\n            setTimeout(function() {\n                var nbb_cell_id = 2;\n                var nbb_unformatted_code = \"news = datasets.fetch_20newsgroups(data_home=DATA_HOME, subset=\\\"all\\\", shuffle=False)\\ndf = pd.DataFrame({\\\"text\\\": news[\\\"data\\\"], \\\"filenames\\\": news[\\\"filenames\\\"]})\\ndf\";\n                var nbb_formatted_code = \"news = datasets.fetch_20newsgroups(data_home=DATA_HOME, subset=\\\"all\\\", shuffle=False)\\ndf = pd.DataFrame({\\\"text\\\": news[\\\"data\\\"], \\\"filenames\\\": news[\\\"filenames\\\"]})\\ndf\";\n                var nbb_cells = Jupyter.notebook.get_cells();\n                for (var i = 0; i < nbb_cells.length; ++i) {\n                    if (nbb_cells[i].input_prompt_number == nbb_cell_id) {\n                        if (nbb_cells[i].get_text() == nbb_unformatted_code) {\n                             nbb_cells[i].set_text(nbb_formatted_code);\n                        }\n                        break;\n                    }\n                }\n            }, 500);\n            ",
      "text/plain": [
       "<IPython.core.display.Javascript object>"
      ]
     },
     "metadata": {},
     "output_type": "display_data"
    }
   ],
   "source": [
    "news = datasets.fetch_20newsgroups(data_home=DATA_HOME, subset=\"all\", shuffle=False)\n",
    "df = pd.DataFrame({\"text\": news[\"data\"], \"filenames\": news[\"filenames\"]})\n",
    "df"
   ]
  },
  {
   "cell_type": "code",
   "execution_count": 5,
   "metadata": {},
   "outputs": [
    {
     "data": {
      "image/png": "[encoded data removed]",
      "text/plain": [
       "<Figure size 720x360 with 2 Axes>"
      ]
     },
     "metadata": {
      "needs_background": "light"
     },
     "output_type": "display_data"
    },
    {
     "data": {
      "application/javascript": "\n            setTimeout(function() {\n                var nbb_cell_id = 5;\n                var nbb_unformatted_code = \"fig = lang.length_dist(df, tick_prec=1)\";\n                var nbb_formatted_code = \"fig = lang.length_dist(df, tick_prec=1)\";\n                var nbb_cells = Jupyter.notebook.get_cells();\n                for (var i = 0; i < nbb_cells.length; ++i) {\n                    if (nbb_cells[i].input_prompt_number == nbb_cell_id) {\n                        if (nbb_cells[i].get_text() == nbb_unformatted_code) {\n                             nbb_cells[i].set_text(nbb_formatted_code);\n                        }\n                        break;\n                    }\n                }\n            }, 500);\n            ",
      "text/plain": [
       "<IPython.core.display.Javascript object>"
      ]
     },
     "metadata": {},
     "output_type": "display_data"
    }
   ],
   "source": [
    "fig = lang.length_dist(df, tick_prec=1)"
   ]
  },
  {
   "cell_type": "code",
   "execution_count": 22,
   "metadata": {},
   "outputs": [
    {
     "data": {
      "text/plain": [
       "['-20.0K',\n",
       " '0.0',\n",
       " '20.0K',\n",
       " '40.0K',\n",
       " '60.0K',\n",
       " '80.0K',\n",
       " '100.0K',\n",
       " '120.0K',\n",
       " '140.0K',\n",
       " '160.0K',\n",
       " '180.0K']"
      ]
     },
     "execution_count": 22,
     "metadata": {},
     "output_type": "execute_result"
    },
    {
     "data": {
      "application/javascript": "\n            setTimeout(function() {\n                var nbb_cell_id = 22;\n                var nbb_unformatted_code = \"ticks =  fig.get_axes()[0].get_xticklabels()\\n[x.get_text() for x in ticks]\";\n                var nbb_formatted_code = \"ticks = fig.get_axes()[0].get_xticklabels()\\n[x.get_text() for x in ticks]\";\n                var nbb_cells = Jupyter.notebook.get_cells();\n                for (var i = 0; i < nbb_cells.length; ++i) {\n                    if (nbb_cells[i].input_prompt_number == nbb_cell_id) {\n                        if (nbb_cells[i].get_text() == nbb_unformatted_code) {\n                             nbb_cells[i].set_text(nbb_formatted_code);\n                        }\n                        break;\n                    }\n                }\n            }, 500);\n            ",
      "text/plain": [
       "<IPython.core.display.Javascript object>"
      ]
     },
     "metadata": {},
     "output_type": "display_data"
    }
   ],
   "source": [
    "ticks =  fig.get_axes()[0].get_xticklabels()\n",
    "[x.get_text() for x in ticks]"
   ]
  },
  {
   "cell_type": "code",
   "execution_count": null,
   "metadata": {},
   "outputs": [],
   "source": []
  }
 ],
 "metadata": {
  "interpreter": {
   "hash": "c829d7b4789f9290bb512124bc81dcc8c6ae9e62baa1320923326108c301df8e"
  },
  "kernelspec": {
   "display_name": "Python 3.9.7 64-bit ('nlp-env': conda)",
   "name": "python3"
  },
  "language_info": {
   "codemirror_mode": {
    "name": "ipython",
    "version": 3
   },
   "file_extension": ".py",
   "mimetype": "text/x-python",
   "name": "python",
   "nbconvert_exporter": "python",
   "pygments_lexer": "ipython3",
   "version": "3.9.7"
  },
  "toc": {
   "base_numbering": 1,
   "nav_menu": {},
   "number_sections": true,
   "sideBar": true,
   "skip_h1_title": false,
   "title_cell": "Table of Contents",
   "title_sidebar": "Contents",
   "toc_cell": false,
   "toc_position": {},
   "toc_section_display": true,
   "toc_window_display": false
  }
 },
 "nbformat": 4,
 "nbformat_minor": 5
}
