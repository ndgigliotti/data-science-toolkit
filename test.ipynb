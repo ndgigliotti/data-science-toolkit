{
 "cells": [
  {
   "cell_type": "code",
   "execution_count": 67,
   "source": [
    "import os\r\n",
    "from pprint import pprint\r\n",
    "import pandas as pd\r\n",
    "import sklearn.datasets as datasets\r\n",
    "import ndg_tools\r\n",
    "from ndg_tools.sklearn.vectorizers import FreqVectorizer, VaderVectorizer\r\n",
    "\r\n",
    "DATA_HOME = \"test_data\"\r\n",
    "os.makedirs(DATA_HOME, exist_ok=True)\r\n",
    "\r\n",
    "%load_ext autoreload\r\n",
    "%autoreload 2\r\n",
    "\r\n",
    "%load_ext nb_black\r\n",
    "\r\n",
    "ndg_tools"
   ],
   "outputs": [
    {
     "output_type": "stream",
     "name": "stdout",
     "text": [
      "The autoreload extension is already loaded. To reload it, use:\n",
      "  %reload_ext autoreload\n",
      "The nb_black extension is already loaded. To reload it, use:\n",
      "  %reload_ext nb_black\n"
     ]
    },
    {
     "output_type": "execute_result",
     "data": {
      "text/plain": [
       "<module 'ndg_tools' from 'c:\\\\Users\\\\ndgig\\\\Documents\\\\Flatiron\\\\data-science-toolkit\\\\ndg_tools\\\\__init__.py'>"
      ]
     },
     "metadata": {},
     "execution_count": 67
    },
    {
     "output_type": "display_data",
     "data": {
      "application/javascript": "\n            setTimeout(function() {\n                var nbb_cell_id = 67;\n                var nbb_unformatted_code = \"import os\\r\\nfrom pprint import pprint\\r\\nimport pandas as pd\\r\\nimport sklearn.datasets as datasets\\r\\nimport ndg_tools\\r\\nfrom ndg_tools.sklearn.vectorizers import FreqVectorizer, VaderVectorizer\\r\\n\\r\\nDATA_HOME = \\\"test_data\\\"\\r\\nos.makedirs(DATA_HOME, exist_ok=True)\\r\\n\\r\\n%load_ext autoreload\\r\\n%autoreload 2\\r\\n\\r\\n%load_ext nb_black\\r\\n\\r\\nndg_tools\";\n                var nbb_formatted_code = \"import os\\nfrom pprint import pprint\\nimport pandas as pd\\nimport sklearn.datasets as datasets\\nimport ndg_tools\\nfrom ndg_tools.sklearn.vectorizers import FreqVectorizer, VaderVectorizer\\n\\nDATA_HOME = \\\"test_data\\\"\\nos.makedirs(DATA_HOME, exist_ok=True)\\n\\n%load_ext autoreload\\n%autoreload 2\\n\\n%load_ext nb_black\\n\\nndg_tools\";\n                var nbb_cells = Jupyter.notebook.get_cells();\n                for (var i = 0; i < nbb_cells.length; ++i) {\n                    if (nbb_cells[i].input_prompt_number == nbb_cell_id) {\n                        if (nbb_cells[i].get_text() == nbb_unformatted_code) {\n                             nbb_cells[i].set_text(nbb_formatted_code);\n                        }\n                        break;\n                    }\n                }\n            }, 500);\n            ",
      "text/plain": [
       "<IPython.core.display.Javascript object>"
      ]
     },
     "metadata": {}
    }
   ],
   "metadata": {
    "ExecuteTime": {
     "end_time": "2021-10-05T19:54:30.576297Z",
     "start_time": "2021-10-05T19:54:28.839893Z"
    }
   }
  },
  {
   "cell_type": "code",
   "execution_count": 68,
   "source": [
    "news = datasets.fetch_20newsgroups(data_home=DATA_HOME, subset=\"all\", shuffle=False)\r\n",
    "news = {k: pd.Series(v, name=k) for k, v in news.items()}\r\n",
    "news.keys()"
   ],
   "outputs": [
    {
     "output_type": "execute_result",
     "data": {
      "text/plain": [
       "dict_keys(['data', 'filenames', 'target_names', 'target', 'DESCR'])"
      ]
     },
     "metadata": {},
     "execution_count": 68
    },
    {
     "output_type": "display_data",
     "data": {
      "application/javascript": "\n            setTimeout(function() {\n                var nbb_cell_id = 68;\n                var nbb_unformatted_code = \"news = datasets.fetch_20newsgroups(data_home=DATA_HOME, subset=\\\"all\\\", shuffle=False)\\r\\nnews = {k: pd.Series(v, name=k) for k, v in news.items()}\\r\\nnews.keys()\";\n                var nbb_formatted_code = \"news = datasets.fetch_20newsgroups(data_home=DATA_HOME, subset=\\\"all\\\", shuffle=False)\\nnews = {k: pd.Series(v, name=k) for k, v in news.items()}\\nnews.keys()\";\n                var nbb_cells = Jupyter.notebook.get_cells();\n                for (var i = 0; i < nbb_cells.length; ++i) {\n                    if (nbb_cells[i].input_prompt_number == nbb_cell_id) {\n                        if (nbb_cells[i].get_text() == nbb_unformatted_code) {\n                             nbb_cells[i].set_text(nbb_formatted_code);\n                        }\n                        break;\n                    }\n                }\n            }, 500);\n            ",
      "text/plain": [
       "<IPython.core.display.Javascript object>"
      ]
     },
     "metadata": {}
    }
   ],
   "metadata": {
    "ExecuteTime": {
     "end_time": "2021-10-05T19:54:52.249099Z",
     "start_time": "2021-10-05T19:54:51.939097Z"
    },
    "run_control": {
     "marked": false
    }
   }
  },
  {
   "cell_type": "code",
   "execution_count": 69,
   "source": [
    "text = news[\"data\"]\r\n",
    "labels = news[\"target\"].map(news[\"target_names\"])\r\n",
    "df = pd.DataFrame({\"text\": text, \"labels\": labels})\r\n",
    "df"
   ],
   "outputs": [
    {
     "output_type": "execute_result",
     "data": {
      "text/html": [
       "<div>\n",
       "<style scoped>\n",
       "    .dataframe tbody tr th:only-of-type {\n",
       "        vertical-align: middle;\n",
       "    }\n",
       "\n",
       "    .dataframe tbody tr th {\n",
       "        vertical-align: top;\n",
       "    }\n",
       "\n",
       "    .dataframe thead th {\n",
       "        text-align: right;\n",
       "    }\n",
       "</style>\n",
       "<table border=\"1\" class=\"dataframe\">\n",
       "  <thead>\n",
       "    <tr style=\"text-align: right;\">\n",
       "      <th></th>\n",
       "      <th>text</th>\n",
       "      <th>labels</th>\n",
       "    </tr>\n",
       "  </thead>\n",
       "  <tbody>\n",
       "    <tr>\n",
       "      <th>0</th>\n",
       "      <td>From: cubbie@garnet.berkeley.edu (            ...</td>\n",
       "      <td>rec.sport.baseball</td>\n",
       "    </tr>\n",
       "    <tr>\n",
       "      <th>1</th>\n",
       "      <td>From: gnelson@pion.rutgers.edu (Gregory Nelson...</td>\n",
       "      <td>comp.sys.mac.hardware</td>\n",
       "    </tr>\n",
       "    <tr>\n",
       "      <th>2</th>\n",
       "      <td>From: crypt-comments@math.ncsu.edu\\nSubject: C...</td>\n",
       "      <td>sci.crypt</td>\n",
       "    </tr>\n",
       "    <tr>\n",
       "      <th>3</th>\n",
       "      <td>From:  ()\\nSubject: Re: Quadra SCSI Problems??...</td>\n",
       "      <td>comp.sys.mac.hardware</td>\n",
       "    </tr>\n",
       "    <tr>\n",
       "      <th>4</th>\n",
       "      <td>From: keith@cco.caltech.edu (Keith Allan Schne...</td>\n",
       "      <td>alt.atheism</td>\n",
       "    </tr>\n",
       "    <tr>\n",
       "      <th>...</th>\n",
       "      <td>...</td>\n",
       "      <td>...</td>\n",
       "    </tr>\n",
       "    <tr>\n",
       "      <th>18841</th>\n",
       "      <td>From: fennell@well.sf.ca.us (Michael Daniel Fe...</td>\n",
       "      <td>sci.electronics</td>\n",
       "    </tr>\n",
       "    <tr>\n",
       "      <th>18842</th>\n",
       "      <td>From: tony@morgan.demon.co.uk (Tony Kidson)\\nS...</td>\n",
       "      <td>rec.motorcycles</td>\n",
       "    </tr>\n",
       "    <tr>\n",
       "      <th>18843</th>\n",
       "      <td>From: sadams@eis.calstate.edu (Steven Adams)\\n...</td>\n",
       "      <td>comp.sys.mac.hardware</td>\n",
       "    </tr>\n",
       "    <tr>\n",
       "      <th>18844</th>\n",
       "      <td>From: jtobias@cs.tamu.edu (Jason T Tobias)\\nSu...</td>\n",
       "      <td>misc.forsale</td>\n",
       "    </tr>\n",
       "    <tr>\n",
       "      <th>18845</th>\n",
       "      <td>From: jgoss@gaia.torolab.ibm.com (Jeff Goss)\\n...</td>\n",
       "      <td>rec.autos</td>\n",
       "    </tr>\n",
       "  </tbody>\n",
       "</table>\n",
       "<p>18846 rows × 2 columns</p>\n",
       "</div>"
      ],
      "text/plain": [
       "                                                    text  \\\n",
       "0      From: cubbie@garnet.berkeley.edu (            ...   \n",
       "1      From: gnelson@pion.rutgers.edu (Gregory Nelson...   \n",
       "2      From: crypt-comments@math.ncsu.edu\\nSubject: C...   \n",
       "3      From:  ()\\nSubject: Re: Quadra SCSI Problems??...   \n",
       "4      From: keith@cco.caltech.edu (Keith Allan Schne...   \n",
       "...                                                  ...   \n",
       "18841  From: fennell@well.sf.ca.us (Michael Daniel Fe...   \n",
       "18842  From: tony@morgan.demon.co.uk (Tony Kidson)\\nS...   \n",
       "18843  From: sadams@eis.calstate.edu (Steven Adams)\\n...   \n",
       "18844  From: jtobias@cs.tamu.edu (Jason T Tobias)\\nSu...   \n",
       "18845  From: jgoss@gaia.torolab.ibm.com (Jeff Goss)\\n...   \n",
       "\n",
       "                      labels  \n",
       "0         rec.sport.baseball  \n",
       "1      comp.sys.mac.hardware  \n",
       "2                  sci.crypt  \n",
       "3      comp.sys.mac.hardware  \n",
       "4                alt.atheism  \n",
       "...                      ...  \n",
       "18841        sci.electronics  \n",
       "18842        rec.motorcycles  \n",
       "18843  comp.sys.mac.hardware  \n",
       "18844           misc.forsale  \n",
       "18845              rec.autos  \n",
       "\n",
       "[18846 rows x 2 columns]"
      ]
     },
     "metadata": {},
     "execution_count": 69
    },
    {
     "output_type": "display_data",
     "data": {
      "application/javascript": "\n            setTimeout(function() {\n                var nbb_cell_id = 69;\n                var nbb_unformatted_code = \"text = news[\\\"data\\\"]\\r\\nlabels = news[\\\"target\\\"].map(news[\\\"target_names\\\"])\\r\\ndf = pd.DataFrame({\\\"text\\\": text, \\\"labels\\\": labels})\\r\\ndf\";\n                var nbb_formatted_code = \"text = news[\\\"data\\\"]\\nlabels = news[\\\"target\\\"].map(news[\\\"target_names\\\"])\\ndf = pd.DataFrame({\\\"text\\\": text, \\\"labels\\\": labels})\\ndf\";\n                var nbb_cells = Jupyter.notebook.get_cells();\n                for (var i = 0; i < nbb_cells.length; ++i) {\n                    if (nbb_cells[i].input_prompt_number == nbb_cell_id) {\n                        if (nbb_cells[i].get_text() == nbb_unformatted_code) {\n                             nbb_cells[i].set_text(nbb_formatted_code);\n                        }\n                        break;\n                    }\n                }\n            }, 500);\n            ",
      "text/plain": [
       "<IPython.core.display.Javascript object>"
      ]
     },
     "metadata": {}
    }
   ],
   "metadata": {
    "ExecuteTime": {
     "end_time": "2021-10-05T19:54:53.138544Z",
     "start_time": "2021-10-05T19:54:53.047544Z"
    }
   }
  },
  {
   "cell_type": "code",
   "execution_count": 5,
   "source": [
    "fv = FreqVectorizer()\r\n",
    "fv.fit_transform(df[\"text\"])"
   ],
   "outputs": [
    {
     "output_type": "execute_result",
     "data": {
      "text/plain": [
       "<18846x173760 sparse matrix of type '<class 'numpy.float64'>'\n",
       "\twith 2952529 stored elements in Compressed Sparse Row format>"
      ]
     },
     "metadata": {},
     "execution_count": 5
    },
    {
     "output_type": "display_data",
     "data": {
      "application/javascript": "\n            setTimeout(function() {\n                var nbb_cell_id = 5;\n                var nbb_unformatted_code = \"fv = FreqVectorizer()\\nfv.fit_transform(df[\\\"text\\\"])\";\n                var nbb_formatted_code = \"fv = FreqVectorizer()\\nfv.fit_transform(df[\\\"text\\\"])\";\n                var nbb_cells = Jupyter.notebook.get_cells();\n                for (var i = 0; i < nbb_cells.length; ++i) {\n                    if (nbb_cells[i].input_prompt_number == nbb_cell_id) {\n                        if (nbb_cells[i].get_text() == nbb_unformatted_code) {\n                             nbb_cells[i].set_text(nbb_formatted_code);\n                        }\n                        break;\n                    }\n                }\n            }, 500);\n            ",
      "text/plain": [
       "<IPython.core.display.Javascript object>"
      ]
     },
     "metadata": {}
    }
   ],
   "metadata": {
    "ExecuteTime": {
     "end_time": "2021-10-05T19:54:58.446299Z",
     "start_time": "2021-10-05T19:54:54.723303Z"
    }
   }
  },
  {
   "cell_type": "code",
   "execution_count": 8,
   "source": [
    "vv = VaderVectorizer(round_scores=True, n_jobs=1)\r\n",
    "vv.fit_transform(df[\"text\"].sample(1000)).min(axis=0)"
   ],
   "outputs": [
    {
     "output_type": "execute_result",
     "data": {
      "text/plain": [
       "array([ 0.,  1.,  0., -1.])"
      ]
     },
     "metadata": {},
     "execution_count": 8
    },
    {
     "output_type": "display_data",
     "data": {
      "application/javascript": "\n            setTimeout(function() {\n                var nbb_cell_id = 8;\n                var nbb_unformatted_code = \"vv = VaderVectorizer(round_scores=True, n_jobs=1)\\nvv.fit_transform(df[\\\"text\\\"].sample(1000)).min(axis=0)\";\n                var nbb_formatted_code = \"vv = VaderVectorizer(round_scores=True, n_jobs=1)\\nvv.fit_transform(df[\\\"text\\\"].sample(1000)).min(axis=0)\";\n                var nbb_cells = Jupyter.notebook.get_cells();\n                for (var i = 0; i < nbb_cells.length; ++i) {\n                    if (nbb_cells[i].input_prompt_number == nbb_cell_id) {\n                        if (nbb_cells[i].get_text() == nbb_unformatted_code) {\n                             nbb_cells[i].set_text(nbb_formatted_code);\n                        }\n                        break;\n                    }\n                }\n            }, 500);\n            ",
      "text/plain": [
       "<IPython.core.display.Javascript object>"
      ]
     },
     "metadata": {}
    }
   ],
   "metadata": {
    "ExecuteTime": {
     "end_time": "2021-10-05T19:55:10.170589Z",
     "start_time": "2021-10-05T19:55:07.079585Z"
    }
   }
  },
  {
   "cell_type": "code",
   "execution_count": null,
   "source": [],
   "outputs": [],
   "metadata": {}
  }
 ],
 "metadata": {
  "kernelspec": {
   "name": "python3",
   "display_name": "Python 3.9.7 64-bit ('nlp-env': conda)"
  },
  "language_info": {
   "codemirror_mode": {
    "name": "ipython",
    "version": 3
   },
   "file_extension": ".py",
   "mimetype": "text/x-python",
   "name": "python",
   "nbconvert_exporter": "python",
   "pygments_lexer": "ipython3",
   "version": "3.9.7"
  },
  "toc": {
   "base_numbering": 1,
   "nav_menu": {},
   "number_sections": true,
   "sideBar": true,
   "skip_h1_title": false,
   "title_cell": "Table of Contents",
   "title_sidebar": "Contents",
   "toc_cell": false,
   "toc_position": {},
   "toc_section_display": true,
   "toc_window_display": false
  },
  "interpreter": {
   "hash": "c829d7b4789f9290bb512124bc81dcc8c6ae9e62baa1320923326108c301df8e"
  }
 },
 "nbformat": 4,
 "nbformat_minor": 5
}