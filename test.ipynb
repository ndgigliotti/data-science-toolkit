{
 "cells": [
  {
   "cell_type": "code",
   "execution_count": 2,
   "metadata": {
    "ExecuteTime": {
     "end_time": "2021-10-05T19:54:30.576297Z",
     "start_time": "2021-10-05T19:54:28.839893Z"
    }
   },
   "outputs": [
    {
     "name": "stderr",
     "output_type": "stream",
     "text": [
      "[nltk_data] Downloading package averaged_perceptron_tagger to\n",
      "[nltk_data]     C:\\Users\\ndgig\\AppData\\Roaming\\nltk_data...\n",
      "[nltk_data]   Package averaged_perceptron_tagger is already up-to-\n",
      "[nltk_data]       date!\n",
      "[nltk_data] Downloading package universal_tagset to\n",
      "[nltk_data]     C:\\Users\\ndgig\\AppData\\Roaming\\nltk_data...\n",
      "[nltk_data]   Package universal_tagset is already up-to-date!\n",
      "[nltk_data] Downloading package wordnet to\n",
      "[nltk_data]     C:\\Users\\ndgig\\AppData\\Roaming\\nltk_data...\n",
      "[nltk_data]   Package wordnet is already up-to-date!\n"
     ]
    },
    {
     "data": {
      "text/plain": [
       "<module 'ndg_tools' from 'c:\\\\Users\\\\ndgig\\\\Documents\\\\Flatiron\\\\data-science-toolkit\\\\ndg_tools\\\\__init__.py'>"
      ]
     },
     "execution_count": 2,
     "metadata": {},
     "output_type": "execute_result"
    },
    {
     "data": {
      "application/javascript": "\n            setTimeout(function() {\n                var nbb_cell_id = 2;\n                var nbb_unformatted_code = \"import os\\nfrom pprint import pprint\\nimport pandas as pd\\nimport numpy as np\\nimport itertools\\nimport sklearn.datasets as datasets\\nimport ndg_tools\\nfrom ndg_tools.sklearn.vectorizers import FreqVectorizer, VaderVectorizer\\nfrom ndg_tools import language as lang, utils\\n\\nDATA_HOME = \\\"test_data\\\"\\nos.makedirs(DATA_HOME, exist_ok=True)\\n\\n%load_ext autoreload\\n%autoreload 2\\n\\n%load_ext nb_black\\n\\nndg_tools\";\n                var nbb_formatted_code = \"import os\\nfrom pprint import pprint\\nimport pandas as pd\\nimport numpy as np\\nimport itertools\\nimport sklearn.datasets as datasets\\nimport ndg_tools\\nfrom ndg_tools.sklearn.vectorizers import FreqVectorizer, VaderVectorizer\\nfrom ndg_tools import language as lang, utils\\n\\nDATA_HOME = \\\"test_data\\\"\\nos.makedirs(DATA_HOME, exist_ok=True)\\n\\n%load_ext autoreload\\n%autoreload 2\\n\\n%load_ext nb_black\\n\\nndg_tools\";\n                var nbb_cells = Jupyter.notebook.get_cells();\n                for (var i = 0; i < nbb_cells.length; ++i) {\n                    if (nbb_cells[i].input_prompt_number == nbb_cell_id) {\n                        if (nbb_cells[i].get_text() == nbb_unformatted_code) {\n                             nbb_cells[i].set_text(nbb_formatted_code);\n                        }\n                        break;\n                    }\n                }\n            }, 500);\n            ",
      "text/plain": [
       "<IPython.core.display.Javascript object>"
      ]
     },
     "metadata": {},
     "output_type": "display_data"
    }
   ],
   "source": [
    "import os\n",
    "from pprint import pprint\n",
    "import pandas as pd\n",
    "import numpy as np\n",
    "import itertools\n",
    "import sklearn.datasets as datasets\n",
    "import ndg_tools\n",
    "from ndg_tools.sklearn.vectorizers import FreqVectorizer, VaderVectorizer\n",
    "from ndg_tools import language as lang, utils\n",
    "\n",
    "DATA_HOME = \"test_data\"\n",
    "os.makedirs(DATA_HOME, exist_ok=True)\n",
    "\n",
    "%load_ext autoreload\n",
    "%autoreload 2\n",
    "\n",
    "%load_ext nb_black\n",
    "\n",
    "ndg_tools"
   ]
  },
  {
   "cell_type": "code",
   "execution_count": 3,
   "metadata": {
    "ExecuteTime": {
     "end_time": "2021-10-05T19:54:52.249099Z",
     "start_time": "2021-10-05T19:54:51.939097Z"
    },
    "run_control": {
     "marked": false
    }
   },
   "outputs": [
    {
     "data": {
      "text/plain": [
       "dict_keys(['data', 'filenames', 'target_names', 'target', 'DESCR'])"
      ]
     },
     "execution_count": 3,
     "metadata": {},
     "output_type": "execute_result"
    },
    {
     "data": {
      "application/javascript": "\n            setTimeout(function() {\n                var nbb_cell_id = 3;\n                var nbb_unformatted_code = \"news = datasets.fetch_20newsgroups(data_home=DATA_HOME, subset=\\\"all\\\", shuffle=False)\\nnews = {k: pd.Series(v, name=k) for k, v in news.items()}\\nnews.keys()\";\n                var nbb_formatted_code = \"news = datasets.fetch_20newsgroups(data_home=DATA_HOME, subset=\\\"all\\\", shuffle=False)\\nnews = {k: pd.Series(v, name=k) for k, v in news.items()}\\nnews.keys()\";\n                var nbb_cells = Jupyter.notebook.get_cells();\n                for (var i = 0; i < nbb_cells.length; ++i) {\n                    if (nbb_cells[i].input_prompt_number == nbb_cell_id) {\n                        if (nbb_cells[i].get_text() == nbb_unformatted_code) {\n                             nbb_cells[i].set_text(nbb_formatted_code);\n                        }\n                        break;\n                    }\n                }\n            }, 500);\n            ",
      "text/plain": [
       "<IPython.core.display.Javascript object>"
      ]
     },
     "metadata": {},
     "output_type": "display_data"
    }
   ],
   "source": [
    "news = datasets.fetch_20newsgroups(data_home=DATA_HOME, subset=\"all\", shuffle=False)\n",
    "news = {k: pd.Series(v, name=k) for k, v in news.items()}\n",
    "news.keys()"
   ]
  },
  {
   "cell_type": "code",
   "execution_count": 28,
   "metadata": {
    "ExecuteTime": {
     "end_time": "2021-10-05T19:54:53.138544Z",
     "start_time": "2021-10-05T19:54:53.047544Z"
    }
   },
   "outputs": [
    {
     "data": {
      "text/html": [
       "<div>\n",
       "<style scoped>\n",
       "    .dataframe tbody tr th:only-of-type {\n",
       "        vertical-align: middle;\n",
       "    }\n",
       "\n",
       "    .dataframe tbody tr th {\n",
       "        vertical-align: top;\n",
       "    }\n",
       "\n",
       "    .dataframe thead th {\n",
       "        text-align: right;\n",
       "    }\n",
       "</style>\n",
       "<table border=\"1\" class=\"dataframe\">\n",
       "  <thead>\n",
       "    <tr style=\"text-align: right;\">\n",
       "      <th></th>\n",
       "      <th>text</th>\n",
       "      <th>labels</th>\n",
       "    </tr>\n",
       "  </thead>\n",
       "  <tbody>\n",
       "    <tr>\n",
       "      <th>0</th>\n",
       "      <td>From: cubbie@garnet.berkeley.edu (            ...</td>\n",
       "      <td>rec.sport.baseball</td>\n",
       "    </tr>\n",
       "    <tr>\n",
       "      <th>1</th>\n",
       "      <td>From: gnelson@pion.rutgers.edu (Gregory Nelson...</td>\n",
       "      <td>comp.sys.mac.hardware</td>\n",
       "    </tr>\n",
       "    <tr>\n",
       "      <th>2</th>\n",
       "      <td>From: crypt-comments@math.ncsu.edu\\nSubject: C...</td>\n",
       "      <td>sci.crypt</td>\n",
       "    </tr>\n",
       "    <tr>\n",
       "      <th>3</th>\n",
       "      <td>From:  ()\\nSubject: Re: Quadra SCSI Problems??...</td>\n",
       "      <td>comp.sys.mac.hardware</td>\n",
       "    </tr>\n",
       "    <tr>\n",
       "      <th>4</th>\n",
       "      <td>From: keith@cco.caltech.edu (Keith Allan Schne...</td>\n",
       "      <td>alt.atheism</td>\n",
       "    </tr>\n",
       "    <tr>\n",
       "      <th>...</th>\n",
       "      <td>...</td>\n",
       "      <td>...</td>\n",
       "    </tr>\n",
       "    <tr>\n",
       "      <th>18841</th>\n",
       "      <td>From: fennell@well.sf.ca.us (Michael Daniel Fe...</td>\n",
       "      <td>sci.electronics</td>\n",
       "    </tr>\n",
       "    <tr>\n",
       "      <th>18842</th>\n",
       "      <td>From: tony@morgan.demon.co.uk (Tony Kidson)\\nS...</td>\n",
       "      <td>rec.motorcycles</td>\n",
       "    </tr>\n",
       "    <tr>\n",
       "      <th>18843</th>\n",
       "      <td>From: sadams@eis.calstate.edu (Steven Adams)\\n...</td>\n",
       "      <td>comp.sys.mac.hardware</td>\n",
       "    </tr>\n",
       "    <tr>\n",
       "      <th>18844</th>\n",
       "      <td>From: jtobias@cs.tamu.edu (Jason T Tobias)\\nSu...</td>\n",
       "      <td>misc.forsale</td>\n",
       "    </tr>\n",
       "    <tr>\n",
       "      <th>18845</th>\n",
       "      <td>From: jgoss@gaia.torolab.ibm.com (Jeff Goss)\\n...</td>\n",
       "      <td>rec.autos</td>\n",
       "    </tr>\n",
       "  </tbody>\n",
       "</table>\n",
       "<p>18846 rows × 2 columns</p>\n",
       "</div>"
      ],
      "text/plain": [
       "                                                    text  \\\n",
       "0      From: cubbie@garnet.berkeley.edu (            ...   \n",
       "1      From: gnelson@pion.rutgers.edu (Gregory Nelson...   \n",
       "2      From: crypt-comments@math.ncsu.edu\\nSubject: C...   \n",
       "3      From:  ()\\nSubject: Re: Quadra SCSI Problems??...   \n",
       "4      From: keith@cco.caltech.edu (Keith Allan Schne...   \n",
       "...                                                  ...   \n",
       "18841  From: fennell@well.sf.ca.us (Michael Daniel Fe...   \n",
       "18842  From: tony@morgan.demon.co.uk (Tony Kidson)\\nS...   \n",
       "18843  From: sadams@eis.calstate.edu (Steven Adams)\\n...   \n",
       "18844  From: jtobias@cs.tamu.edu (Jason T Tobias)\\nSu...   \n",
       "18845  From: jgoss@gaia.torolab.ibm.com (Jeff Goss)\\n...   \n",
       "\n",
       "                      labels  \n",
       "0         rec.sport.baseball  \n",
       "1      comp.sys.mac.hardware  \n",
       "2                  sci.crypt  \n",
       "3      comp.sys.mac.hardware  \n",
       "4                alt.atheism  \n",
       "...                      ...  \n",
       "18841        sci.electronics  \n",
       "18842        rec.motorcycles  \n",
       "18843  comp.sys.mac.hardware  \n",
       "18844           misc.forsale  \n",
       "18845              rec.autos  \n",
       "\n",
       "[18846 rows x 2 columns]"
      ]
     },
     "execution_count": 28,
     "metadata": {},
     "output_type": "execute_result"
    },
    {
     "data": {
      "application/javascript": "\n            setTimeout(function() {\n                var nbb_cell_id = 28;\n                var nbb_unformatted_code = \"text = news[\\\"data\\\"]\\nlabels = news[\\\"target\\\"].map(news[\\\"target_names\\\"])\\ndf = pd.DataFrame({\\\"text\\\": text, \\\"labels\\\": labels})\\ndf\";\n                var nbb_formatted_code = \"text = news[\\\"data\\\"]\\nlabels = news[\\\"target\\\"].map(news[\\\"target_names\\\"])\\ndf = pd.DataFrame({\\\"text\\\": text, \\\"labels\\\": labels})\\ndf\";\n                var nbb_cells = Jupyter.notebook.get_cells();\n                for (var i = 0; i < nbb_cells.length; ++i) {\n                    if (nbb_cells[i].input_prompt_number == nbb_cell_id) {\n                        if (nbb_cells[i].get_text() == nbb_unformatted_code) {\n                             nbb_cells[i].set_text(nbb_formatted_code);\n                        }\n                        break;\n                    }\n                }\n            }, 500);\n            ",
      "text/plain": [
       "<IPython.core.display.Javascript object>"
      ]
     },
     "metadata": {},
     "output_type": "display_data"
    }
   ],
   "source": [
    "text = news[\"data\"]\n",
    "labels = news[\"target\"].map(news[\"target_names\"])\n",
    "df = pd.DataFrame({\"text\": text, \"labels\": labels})\n",
    "df"
   ]
  },
  {
   "cell_type": "code",
   "execution_count": 7,
   "metadata": {},
   "outputs": [
    {
     "data": {
      "text/html": [
       "<div>\n",
       "<style scoped>\n",
       "    .dataframe tbody tr th:only-of-type {\n",
       "        vertical-align: middle;\n",
       "    }\n",
       "\n",
       "    .dataframe tbody tr th {\n",
       "        vertical-align: top;\n",
       "    }\n",
       "\n",
       "    .dataframe thead th {\n",
       "        text-align: right;\n",
       "    }\n",
       "</style>\n",
       "<table border=\"1\" class=\"dataframe\">\n",
       "  <thead>\n",
       "    <tr style=\"text-align: right;\">\n",
       "      <th></th>\n",
       "      <th>text</th>\n",
       "      <th>handle</th>\n",
       "      <th>polarity</th>\n",
       "    </tr>\n",
       "  </thead>\n",
       "  <tbody>\n",
       "    <tr>\n",
       "      <th>0</th>\n",
       "      <td>Going out tonight, woo!</td>\n",
       "      <td>amandamowry</td>\n",
       "      <td>1</td>\n",
       "    </tr>\n",
       "    <tr>\n",
       "      <th>1</th>\n",
       "      <td>New poll by ComRes puts Green Party on 15% ove...</td>\n",
       "      <td>jennimiles</td>\n",
       "      <td>1</td>\n",
       "    </tr>\n",
       "    <tr>\n",
       "      <th>2</th>\n",
       "      <td>Smith injured</td>\n",
       "      <td>SSN_Allistar</td>\n",
       "      <td>0</td>\n",
       "    </tr>\n",
       "    <tr>\n",
       "      <th>3</th>\n",
       "      <td>Havin hella fun with the friends!</td>\n",
       "      <td>lindseyRyap</td>\n",
       "      <td>1</td>\n",
       "    </tr>\n",
       "    <tr>\n",
       "      <th>4</th>\n",
       "      <td>i wanna see your bike!  @mmitchelldaviss</td>\n",
       "      <td>hrtlsgraceanne</td>\n",
       "      <td>1</td>\n",
       "    </tr>\n",
       "    <tr>\n",
       "      <th>...</th>\n",
       "      <td>...</td>\n",
       "      <td>...</td>\n",
       "      <td>...</td>\n",
       "    </tr>\n",
       "    <tr>\n",
       "      <th>995</th>\n",
       "      <td>@MattsMedia seven plus five is thirteen (cuz t...</td>\n",
       "      <td>luckyfin</td>\n",
       "      <td>1</td>\n",
       "    </tr>\n",
       "    <tr>\n",
       "      <th>996</th>\n",
       "      <td>Geez, Ubisoft had nothing on offer, besides As...</td>\n",
       "      <td>Lfcmonkey</td>\n",
       "      <td>0</td>\n",
       "    </tr>\n",
       "    <tr>\n",
       "      <th>997</th>\n",
       "      <td>i just drove to school by myself  yay license!</td>\n",
       "      <td>Raechill_freshh</td>\n",
       "      <td>1</td>\n",
       "    </tr>\n",
       "    <tr>\n",
       "      <th>998</th>\n",
       "      <td>Portfolio download site nearly compleeeeeete</td>\n",
       "      <td>Lloyd</td>\n",
       "      <td>1</td>\n",
       "    </tr>\n",
       "    <tr>\n",
       "      <th>999</th>\n",
       "      <td>@twilightteen7 im still in the one hudreds  haha</td>\n",
       "      <td>jansenn</td>\n",
       "      <td>0</td>\n",
       "    </tr>\n",
       "  </tbody>\n",
       "</table>\n",
       "<p>1000 rows × 3 columns</p>\n",
       "</div>"
      ],
      "text/plain": [
       "                                                  text           handle  \\\n",
       "0                             Going out tonight, woo!       amandamowry   \n",
       "1    New poll by ComRes puts Green Party on 15% ove...       jennimiles   \n",
       "2                                       Smith injured      SSN_Allistar   \n",
       "3                   Havin hella fun with the friends!       lindseyRyap   \n",
       "4             i wanna see your bike!  @mmitchelldaviss   hrtlsgraceanne   \n",
       "..                                                 ...              ...   \n",
       "995  @MattsMedia seven plus five is thirteen (cuz t...         luckyfin   \n",
       "996  Geez, Ubisoft had nothing on offer, besides As...        Lfcmonkey   \n",
       "997     i just drove to school by myself  yay license!  Raechill_freshh   \n",
       "998      Portfolio download site nearly compleeeeeete             Lloyd   \n",
       "999   @twilightteen7 im still in the one hudreds  haha          jansenn   \n",
       "\n",
       "     polarity  \n",
       "0           1  \n",
       "1           1  \n",
       "2           0  \n",
       "3           1  \n",
       "4           1  \n",
       "..        ...  \n",
       "995         1  \n",
       "996         0  \n",
       "997         1  \n",
       "998         1  \n",
       "999         0  \n",
       "\n",
       "[1000 rows x 3 columns]"
      ]
     },
     "execution_count": 7,
     "metadata": {},
     "output_type": "execute_result"
    },
    {
     "data": {
      "application/javascript": "\n            setTimeout(function() {\n                var nbb_cell_id = 7;\n                var nbb_unformatted_code = \"tweets = pd.read_parquet(\\\"test_data/tweets_sentiment.parquet\\\")\\ntweets\";\n                var nbb_formatted_code = \"tweets = pd.read_parquet(\\\"test_data/tweets_sentiment.parquet\\\")\\ntweets\";\n                var nbb_cells = Jupyter.notebook.get_cells();\n                for (var i = 0; i < nbb_cells.length; ++i) {\n                    if (nbb_cells[i].input_prompt_number == nbb_cell_id) {\n                        if (nbb_cells[i].get_text() == nbb_unformatted_code) {\n                             nbb_cells[i].set_text(nbb_formatted_code);\n                        }\n                        break;\n                    }\n                }\n            }, 500);\n            ",
      "text/plain": [
       "<IPython.core.display.Javascript object>"
      ]
     },
     "metadata": {},
     "output_type": "display_data"
    }
   ],
   "source": [
    "tweets = pd.read_parquet(\"test_data/tweets_sentiment.parquet\")\n",
    "tweets"
   ]
  },
  {
   "cell_type": "code",
   "execution_count": 36,
   "metadata": {},
   "outputs": [
    {
     "name": "stdout",
     "output_type": "stream",
     "text": [
      "{'we', 'what', 'moral', 'think', 'last', 'boyfwend', 'day', 'tonight', 'vomit', 'peanut', 'on', 'feel', 'ho_viatt', 'there', 'find', 'back', 'kolonopin', 'sent', 'weather', 'is', 'are', 'usag', 'not', 'round', 'batteri', 'swimteam', 'name', '12', 'life', 'out', 'yummi', 'with', 'chi_gurl', 'snu', 'dvd', 'ye', 'good', 'mouth', 'and', 'my', 'much', 'do', 'forg', 'watch', 'just', 'iphon', 'dl', 'run', 'when', 'salt', 'wonder', 'low', 'boulder', 'moraga', 'count', 'of', 'bit', 'reunion', 'vandiemensland_', 'littl', 'pleeeeas', 'come', 'want', 'go', 'down', 'sassamo', 'under', 'song', 'river', 'rent', 'noth', 'hour', 'bleh', 'the', 'that', 'onli', 'emf', 'to', 'begin', 'kaitlin_hen', 'someth', 'tv', 'in'}\n"
     ]
    },
    {
     "data": {
      "application/javascript": "\n            setTimeout(function() {\n                var nbb_cell_id = 36;\n                var nbb_unformatted_code = \"def test_stemmer():\\n    no_stem = FreqVectorizer(stemmer=None).build_analyzer()\\n    porter = FreqVectorizer(stemmer=\\\"porter\\\").build_analyzer()\\n    wordnet = FreqVectorizer(stemmer=\\\"wordnet\\\").build_analyzer()\\n    super_tweet = \\\" \\\".join(tweets[\\\"text\\\"].sample(10, random_state=144))\\n    no_stem_vocab = set(no_stem(super_tweet))\\n    porter_vocab = set(porter(super_tweet))\\n    wordnet_vocab = set(wordnet(super_tweet))\\n    print(porter_vocab)\\ntest_stemmer()\";\n                var nbb_formatted_code = \"def test_stemmer():\\n    no_stem = FreqVectorizer(stemmer=None).build_analyzer()\\n    porter = FreqVectorizer(stemmer=\\\"porter\\\").build_analyzer()\\n    wordnet = FreqVectorizer(stemmer=\\\"wordnet\\\").build_analyzer()\\n    super_tweet = \\\" \\\".join(tweets[\\\"text\\\"].sample(10, random_state=144))\\n    no_stem_vocab = set(no_stem(super_tweet))\\n    porter_vocab = set(porter(super_tweet))\\n    wordnet_vocab = set(wordnet(super_tweet))\\n    print(porter_vocab)\\n\\n\\ntest_stemmer()\";\n                var nbb_cells = Jupyter.notebook.get_cells();\n                for (var i = 0; i < nbb_cells.length; ++i) {\n                    if (nbb_cells[i].input_prompt_number == nbb_cell_id) {\n                        if (nbb_cells[i].get_text() == nbb_unformatted_code) {\n                             nbb_cells[i].set_text(nbb_formatted_code);\n                        }\n                        break;\n                    }\n                }\n            }, 500);\n            ",
      "text/plain": [
       "<IPython.core.display.Javascript object>"
      ]
     },
     "metadata": {},
     "output_type": "display_data"
    }
   ],
   "source": [
    "def test_stemmer():\n",
    "    no_stem = FreqVectorizer(stemmer=None).build_analyzer()\n",
    "    porter = FreqVectorizer(stemmer=\"porter\").build_analyzer()\n",
    "    wordnet = FreqVectorizer(stemmer=\"wordnet\").build_analyzer()\n",
    "    super_tweet = \" \".join(tweets[\"text\"].sample(10, random_state=144))\n",
    "    no_stem_vocab = set(no_stem(super_tweet))\n",
    "    porter_vocab = set(porter(super_tweet))\n",
    "    wordnet_vocab = set(wordnet(super_tweet))\n",
    "    print(porter_vocab)\n",
    "test_stemmer()"
   ]
  },
  {
   "cell_type": "code",
   "execution_count": 27,
   "metadata": {},
   "outputs": [
    {
     "data": {
      "text/plain": [
       "'squeaky clean '"
      ]
     },
     "execution_count": 27,
     "metadata": {},
     "output_type": "execute_result"
    },
    {
     "data": {
      "application/javascript": "\n            setTimeout(function() {\n                var nbb_cell_id = 27;\n                var nbb_unformatted_code = \"tweets[\\\"text\\\"].sample().squeeze()\";\n                var nbb_formatted_code = \"tweets[\\\"text\\\"].sample().squeeze()\";\n                var nbb_cells = Jupyter.notebook.get_cells();\n                for (var i = 0; i < nbb_cells.length; ++i) {\n                    if (nbb_cells[i].input_prompt_number == nbb_cell_id) {\n                        if (nbb_cells[i].get_text() == nbb_unformatted_code) {\n                             nbb_cells[i].set_text(nbb_formatted_code);\n                        }\n                        break;\n                    }\n                }\n            }, 500);\n            ",
      "text/plain": [
       "<IPython.core.display.Javascript object>"
      ]
     },
     "metadata": {},
     "output_type": "display_data"
    }
   ],
   "source": [
    "tweets[\"text\"].sample().squeeze()"
   ]
  },
  {
   "cell_type": "code",
   "execution_count": null,
   "metadata": {},
   "outputs": [],
   "source": []
  },
  {
   "cell_type": "code",
   "execution_count": null,
   "metadata": {},
   "outputs": [],
   "source": []
  }
 ],
 "metadata": {
  "interpreter": {
   "hash": "c829d7b4789f9290bb512124bc81dcc8c6ae9e62baa1320923326108c301df8e"
  },
  "kernelspec": {
   "display_name": "Python 3.9.7 64-bit ('nlp-env': conda)",
   "name": "python3"
  },
  "language_info": {
   "codemirror_mode": {
    "name": "ipython",
    "version": 3
   },
   "file_extension": ".py",
   "mimetype": "text/x-python",
   "name": "python",
   "nbconvert_exporter": "python",
   "pygments_lexer": "ipython3",
   "version": "3.9.7"
  },
  "toc": {
   "base_numbering": 1,
   "nav_menu": {},
   "number_sections": true,
   "sideBar": true,
   "skip_h1_title": false,
   "title_cell": "Table of Contents",
   "title_sidebar": "Contents",
   "toc_cell": false,
   "toc_position": {},
   "toc_section_display": true,
   "toc_window_display": false
  }
 },
 "nbformat": 4,
 "nbformat_minor": 5
}
